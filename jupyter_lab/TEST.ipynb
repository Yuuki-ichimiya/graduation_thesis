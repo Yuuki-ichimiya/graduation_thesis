{
 "cells": [
  {
   "cell_type": "code",
   "execution_count": 1,
   "id": "7b8f4c33-b583-4a3b-96ea-7ff8cc22c566",
   "metadata": {},
   "outputs": [],
   "source": [
    "from import_summary import *\n",
    "from scipy import optimize\n",
    "import random, time"
   ]
  },
  {
   "cell_type": "code",
   "execution_count": 17,
   "id": "a5c13470-3fd3-4213-aa02-8c1c8ae87ff9",
   "metadata": {},
   "outputs": [],
   "source": [
    "def times_list(list1, list2, same = 1):\n",
    "    result = np.zeros(len(list1)+len(list2)-1)\n",
    "    for i in range(len(list1)):\n",
    "        for j in range(len(list2)):\n",
    "            result[i+j] += list1[i]*list2[j]\n",
    "            \n",
    "    # list_1とlist_2の要素数は同じで、かつ配列の長さが十分のとき\n",
    "    if same == 1:\n",
    "        result = result[:len(list1)]\n",
    "            \n",
    "    return result\n",
    "\n",
    "def times_poly(poly1, poly2, enough = 1):\n",
    "    result = np.zeros((poly1.shape[0]+poly2.shape[0], poly1.shape[1]+poly2.shape[1]))\n",
    "    for i in range(poly1.shape[0]):\n",
    "        for j in range(poly1.shape[1]):\n",
    "            for m in range(poly2.shape[0]):\n",
    "                for n in range(poly2.shape[1]):\n",
    "                    result[i+m][j+n] += poly1[i][j]*poly2[m][n]\n",
    "            \n",
    "            \n",
    "    # list_1とlist_2の要素数は同じで、かつ配列の長さが十分のとき\n",
    "    if enough == 1:\n",
    "        result = np.array([i[:poly1.shape[1]] for i in result[:poly1.shape[0]]])\n",
    "        \n",
    "    return result\n",
    "\n",
    "def differential(list):\n",
    "    result = np.zeros(len(list))\n",
    "    for i in range(len(list)-1):\n",
    "        result[i] = (i+1)*list[i+1]\n",
    "        \n",
    "    return result"
   ]
  },
  {
   "cell_type": "code",
   "execution_count": 19,
   "id": "cae2201b-58f3-4cb7-8be9-826ceb44bad8",
   "metadata": {},
   "outputs": [
    {
     "name": "stdout",
     "output_type": "stream",
     "text": [
      "[ 2.7588125e-01 -9.3337500e-02 -2.3590625e-02  6.5312500e-04\n",
      " -4.2968750e-06 -0.0000000e+00 -0.0000000e+00 -0.0000000e+00\n",
      " -0.0000000e+00 -0.0000000e+00 -0.0000000e+00 -0.0000000e+00\n",
      " -0.0000000e+00 -0.0000000e+00 -0.0000000e+00 -0.0000000e+00\n",
      " -0.0000000e+00]\n"
     ]
    }
   ],
   "source": [
    "k_1 = np.array([0.3, -0.1, -0.025, 0, 0, 0, 0, 0, 0, 0, 0, 0, 0, 0, 0, 0, 0])\n",
    "k_1 = k_1/2\n",
    "k_1[1] += 1\n",
    "k_1 = 0.05*(-0.55*times_list(k_1, k_1) - 1.8*k_1)\n",
    "k_1[0] += 0.05*5.8\n",
    "\n",
    "print(k_1)"
   ]
  },
  {
   "cell_type": "code",
   "execution_count": 10,
   "id": "c562b507-9484-483a-8f0d-6f1f869d2c21",
   "metadata": {},
   "outputs": [
    {
     "name": "stdout",
     "output_type": "stream",
     "text": [
      "[1.22773436e-07 1.00000052e+00]\n"
     ]
    }
   ],
   "source": [
    "# 解きたい関数をリストで戻す\n",
    "def func(x):\n",
    "    a = 0\n",
    "    b = 0\n",
    "    for i in range(1):\n",
    "        a = x[0]**2 + x[1]**2 -1.0\n",
    "        \n",
    "    for i in range(1):\n",
    "        b = x[0]\n",
    "        \n",
    "    return [a, b]\n",
    "\n",
    "\n",
    "result = optimize.root( func, [ 1.0, 0.0], method=\"broyden1\")\n",
    "print(result.x)"
   ]
  },
  {
   "cell_type": "code",
   "execution_count": 5,
   "id": "24c81e35-861f-40dd-bce7-01eaf3c937e2",
   "metadata": {},
   "outputs": [
    {
     "name": "stdout",
     "output_type": "stream",
     "text": [
      "[ 3. -2.]\n"
     ]
    }
   ],
   "source": [
    "n = 2\n",
    "left = np.array([[2, 6],\n",
    "                [3, 1]])\n",
    "\n",
    "right = np.array([-6, 7])\n",
    "Delta = np.linalg.lstsq(left, right, rcond=0)[0]\n",
    "\n",
    "print(Delta)"
   ]
  },
  {
   "cell_type": "code",
   "execution_count": 10,
   "id": "ae4594c5-2d82-4240-95c3-8fa0d608cd52",
   "metadata": {},
   "outputs": [
    {
     "name": "stdout",
     "output_type": "stream",
     "text": [
      "[[0. 0. 2. 6.]\n",
      " [0. 0. 3. 1.]\n",
      " [2. 3. 0. 0.]\n",
      " [6. 1. 0. 0.]] [-6.  7.  0.  0.]\n",
      "[ 3. -2.]\n"
     ]
    }
   ],
   "source": [
    "J = np.block([[np.zeros((n, n)), left], [left.T, np.zeros((n, n))]])  # 2n*2n次元の行列\n",
    "B = np.block([right, np.zeros(n)])  # 2n次元のベクトル\n",
    "D = np.linalg.lstsq(J, B, rcond=0)[0]\n",
    "\n",
    "print(J,B)\n",
    "print(D[n:2*n])"
   ]
  },
  {
   "cell_type": "code",
   "execution_count": 4,
   "id": "6f29ae0b-fdd8-4c63-9011-4a550b47a724",
   "metadata": {},
   "outputs": [
    {
     "name": "stdout",
     "output_type": "stream",
     "text": [
      "[3.2 3.2 3.2]\n"
     ]
    }
   ],
   "source": [
    "y = np.array([1, 1, 1])\n",
    "\n",
    "print(3.2*y)"
   ]
  },
  {
   "cell_type": "code",
   "execution_count": null,
   "id": "36cc90f0-be11-4d29-a7b9-93e09a73f1c4",
   "metadata": {},
   "outputs": [],
   "source": []
  }
 ],
 "metadata": {
  "kernelspec": {
   "display_name": "Python 3",
   "language": "python",
   "name": "python3"
  },
  "language_info": {
   "codemirror_mode": {
    "name": "ipython",
    "version": 3
   },
   "file_extension": ".py",
   "mimetype": "text/x-python",
   "name": "python",
   "nbconvert_exporter": "python",
   "pygments_lexer": "ipython3",
   "version": "3.8.8"
  }
 },
 "nbformat": 4,
 "nbformat_minor": 5
}
