{
 "cells": [
  {
   "cell_type": "code",
   "execution_count": 1,
   "id": "e0dcfcb1-155c-49a3-a518-c019389095ff",
   "metadata": {},
   "outputs": [],
   "source": [
    "from utility import * # 計算基底に関する確率分布を表示\n",
    "\n",
    "from qulacs import QuantumState\n",
    "from qulacs import QuantumCircuit\n",
    "from qulacs.gate import DenseMatrix\n",
    "\n",
    "from qulacs.gate import Identity, X,Y,Z, to_matrix_gate #パウリ演算子\n",
    "from qulacs.gate import H,S,Sdag, sqrtX,sqrtXdag,sqrtY,sqrtYdag #1量子ビット Clifford演算\n",
    "from qulacs.gate import T,Tdag #1量子ビット 非Clifford演算\n",
    "from qulacs.gate import RX,RY,RZ #パウリ演算子についての回転演算\n",
    "from qulacs.gate import CNOT, CZ, SWAP #2量子ビット演算\n",
    "\n",
    "import numpy as np\n",
    "from numpy import pi\n",
    "import matplotlib.pyplot as plt"
   ]
  },
  {
   "cell_type": "code",
   "execution_count": 2,
   "id": "2ce538cf-472c-48ca-bf9f-2568c601dc7b",
   "metadata": {},
   "outputs": [],
   "source": [
    "def multi_cnot(q, C_Range, tqubit, circuit):\n",
    "    if tqubit in C_Range:\n",
    "        exit(1)\n",
    "    \n",
    "    matrix_c = np.array([[0, 0]\n",
    "                         ,[0, 1]])\n",
    "    matrix_t = np.array([[1, -1]\n",
    "                         ,[-1, 1]])\n",
    "    unit = np.identity(2)\n",
    "    \n",
    "    matrix_temp = np.array([1])\n",
    "\n",
    "    for i in reversed(range(q)):\n",
    "        if i in C_Range:\n",
    "            matrix_temp = np.kron(matrix_temp, matrix_c)\n",
    "        elif i == tqubit:\n",
    "            matrix_temp = np.kron(matrix_temp, matrix_t)\n",
    "        else:\n",
    "            matrix_temp = np.kron(matrix_temp, unit)\n",
    "            \n",
    "    gate_matrix = np.identity(2**q) - matrix_temp\n",
    "    gate = DenseMatrix([i for i in range(q)],gate_matrix) #定義した行列から演算を生成\n",
    "    circuit.add_gate(gate)"
   ]
  },
  {
   "cell_type": "code",
   "execution_count": 3,
   "id": "117e92e3-b254-4051-9968-ceccb3b96cf9",
   "metadata": {},
   "outputs": [],
   "source": [
    "# q=systemqubit+2\n",
    "def p_left(q, phi, circuit): #right projector\n",
    "    n = q\n",
    "    \n",
    "    for i in range(q-1): # Implement a simple multi 0-controlled\n",
    "        circuit.add_X_gate(i)\n",
    "    \n",
    "    ##### 0-Controlled on all but the last qubits, acts on the last qubit\n",
    "    multi_cnot(q, [i for i in range(q-1)], q-1, circuit)\n",
    "    #####\n",
    "    \n",
    "    for i in range(q-1): \n",
    "        circuit.add_X_gate(i)\n",
    "        \n",
    "    #qc.barrier(0, 1, 2, 3)\n",
    "    circuit.add_RZ_gate(q-1, phi) # RZ(phi) on the last qubit\n",
    "    #qc.barrier(0, 1, 2, 3)\n",
    "    \n",
    "    for i in range(q-1): # Reverse the effect of the first multi-control\n",
    "        circuit.add_X_gate(i)\n",
    "    \n",
    "    ##### 0-Controlled on all but the last qubits, acts on the last qubit\n",
    "    multi_cnot(q, [i for i in range(q-1)], q-1, circuit)\n",
    "    #####\n",
    "    for i in range(q-1):\n",
    "        circuit.add_X_gate(i)\n",
    "\n",
    "\n",
    "# q=system_qubit+2\n",
    "def p_right(q, phi, circuit): # Left projector acts just on the signal and the ancillary qubit\n",
    "    circuit.add_CNOT_gate(q-2, q-1)\n",
    "    circuit.add_RZ_gate(q-1, phi) # RZ(phi) on the last qubit\n",
    "    circuit.add_CNOT_gate(q-2, q-1)\n",
    "    \n",
    "\n",
    "#Define Oracle and the reverse-gate for \n",
    "#constructing the dagger later\n",
    "# q=system_qubit+2\n",
    "def U(q, circuit):\n",
    "    for i in range(q-2):\n",
    "        circuit.add_H_gate(i)\n",
    "    \n",
    "    ##### 0-Controlled on all system qubits, acts on the signal qubit\n",
    "    multi_cnot(q, [i for i in range(q-2)], q-2, circuit)\n",
    "    #####\n",
    "\n",
    "\n",
    "# q=system_qubit+2\n",
    "def reverse_U(q, circuit):\n",
    "    ##### 0-Controlled on all system qubits, acts on the signal qubit\n",
    "    multi_cnot(q, [i for i in range(q-2)], q-2, circuit)\n",
    "    #####\n",
    "    \n",
    "    for i in range(q-2):\n",
    "        circuit.add_H_gate(i)"
   ]
  },
  {
   "cell_type": "code",
   "execution_count": 19,
   "id": "1517c266-a707-4f18-8e79-723008eac8e4",
   "metadata": {},
   "outputs": [
    {
     "name": "stdout",
     "output_type": "stream",
     "text": [
      "0.9635154816192006 0b01001110\n"
     ]
    },
    {
     "data": {
      "image/png": "[encoded data removed]",
      "text/plain": [
       "<Figure size 1152x360 with 1 Axes>"
      ]
     },
     "metadata": {
      "needs_background": "light"
     },
     "output_type": "display_data"
    }
   ],
   "source": [
    "target = \"001110\"\n",
    "\n",
    "system_qubits = len(target)\n",
    "nqubits = system_qubits + 2\n",
    "\n",
    "############################## d in terms of n!\n",
    "d = (2*system_qubits) - 1\n",
    "\n",
    "circuit = QuantumCircuit(nqubits) # 量子回路の用意\n",
    "state = QuantumState(nqubits)\n",
    "state.set_zero_state() # |00...0>を準備\n",
    "\n",
    "if system_qubits > 6 and system_qubits < 10:\n",
    "    for i in range(1, system_qubits - 6 + 1):\n",
    "        d += 2 * i\n",
    "###############################\n",
    "\n",
    "p_left(nqubits, (1-d)*pi, circuit)\n",
    "U(nqubits, circuit)\n",
    "\n",
    "for i in range((d-1)//2):\n",
    "    p_right(nqubits, pi, circuit) #debug this, doesnt work just as a 2 qubit gate\n",
    "    reverse_U(nqubits, circuit)\n",
    "    p_left(nqubits, pi, circuit)\n",
    "    U(nqubits, circuit)\n",
    "\n",
    "for i in range(len(target)): # The operation for acquiring arbitrary marked element\n",
    "    string = target[::-1]      # bitstring is reversed to be compatible with the reverse qubit order in Qiskit\n",
    "    if string[i] == '0':\n",
    "        circuit.add_X_gate(i)\n",
    "\n",
    "circuit.update_quantum_state(state)\n",
    "\n",
    "prob_distribution = np.abs(state.get_vector())**2\n",
    "answer = np.amax(prob_distribution)\n",
    "answer_index = np.argmax(prob_distribution)\n",
    "print(answer,format(answer_index,'#0'+str(nqubits+2)+'b'))\n",
    "show_distribution(state)"
   ]
  },
  {
   "cell_type": "code",
   "execution_count": null,
   "id": "a7f8ba49-2688-4f84-9bc9-06dc56fb204e",
   "metadata": {},
   "outputs": [],
   "source": []
  },
  {
   "cell_type": "code",
   "execution_count": null,
   "id": "d2f1ed6d-4f71-4032-bd24-f8f45de84ab4",
   "metadata": {},
   "outputs": [],
   "source": []
  }
 ],
 "metadata": {
  "kernelspec": {
   "display_name": "Python 3",
   "language": "python",
   "name": "python3"
  },
  "language_info": {
   "codemirror_mode": {
    "name": "ipython",
    "version": 3
   },
   "file_extension": ".py",
   "mimetype": "text/x-python",
   "name": "python",
   "nbconvert_exporter": "python",
   "pygments_lexer": "ipython3",
   "version": "3.8.8"
  }
 },
 "nbformat": 4,
 "nbformat_minor": 5
}
